{
  "cells": [
    {
      "cell_type": "markdown",
      "metadata": {
        "id": "kxte7wR_evY_"
      },
      "source": [
        "**Instruction for POS Tagging Using RNNs with Arabic Dataset**\n",
        "\n",
        "**Dataset:**\n",
        "The dataset provided is named \"Assignment 2 - Arabic POS.conllu\". It contains labeled data for Arabic text with Part-of-Speech (POS) tags in CoNLL-U format.\n",
        "\n",
        "**Objective:**\n",
        "Your objective is to perform Part-of-Speech (POS) tagging on Arabic text using Recurrent Neural Networks (RNNs). Specifically, you will use the Universal POS (UPOS) tags for tagging. UPOS is a standardized set of POS tags that aims to cover all languages.\n",
        "\n",
        "**Evaluation metric:**\n",
        "Accuracy\n",
        "\n",
        "**Instructions:**\n",
        "1. **Data Preprocessing:**\n",
        "   - Load the provided dataset \"Assignment 2 - Arabic POS.conllu\". You can use pyconll library\n",
        "   - Preprocess the data as necessary, including tokenization\n",
        "\n",
        "2. **Model Building:**\n",
        "   - Design an RNN-based model architecture suitable for POS tagging. You may consider using recurrent layers such as (LSTM) or (GRU).\n",
        "   - Define the input and output layers of the model. The input layer should accept sequences of tokens, and the output layer should produce the predicted UPOS tags for each token.\n",
        "\n",
        "3. **Training:**\n",
        "\n",
        "4. **Evaluation:**\n",
        "\n",
        "**Additional Notes:**\n",
        "- Make sure to document your code thoroughly and provide clear explanations for each step.\n",
        "- Feel free to explore different RNN architectures, hyperparameters, and optimization techniques to improve the model's accuracy."
      ]
    },
    {
      "cell_type": "markdown",
      "metadata": {
        "id": "v-6lrKz6orxT"
      },
      "source": [
        "### Import used libraries"
      ]
    },
    {
      "cell_type": "code",
      "execution_count": 1,
      "metadata": {
        "id": "eXUPo3g4orxV",
        "colab": {
          "base_uri": "https://localhost:8080/"
        },
        "outputId": "f0d3a7c4-15bd-4cfe-a630-770556e23539"
      },
      "outputs": [
        {
          "output_type": "stream",
          "name": "stdout",
          "text": [
            "Collecting pyconll\n",
            "  Downloading pyconll-3.2.0-py3-none-any.whl (27 kB)\n",
            "Installing collected packages: pyconll\n",
            "Successfully installed pyconll-3.2.0\n"
          ]
        }
      ],
      "source": [
        "pip install pyconll"
      ]
    },
    {
      "cell_type": "code",
      "source": [
        "pip install contractions"
      ],
      "metadata": {
        "colab": {
          "base_uri": "https://localhost:8080/"
        },
        "id": "1TqO5fNfOCDj",
        "outputId": "d948ebe7-c4ba-4128-de0e-65d50a9a8814"
      },
      "execution_count": 2,
      "outputs": [
        {
          "output_type": "stream",
          "name": "stdout",
          "text": [
            "Collecting contractions\n",
            "  Downloading contractions-0.1.73-py2.py3-none-any.whl (8.7 kB)\n",
            "Collecting textsearch>=0.0.21 (from contractions)\n",
            "  Downloading textsearch-0.0.24-py2.py3-none-any.whl (7.6 kB)\n",
            "Collecting anyascii (from textsearch>=0.0.21->contractions)\n",
            "  Downloading anyascii-0.3.2-py3-none-any.whl (289 kB)\n",
            "\u001b[2K     \u001b[90m━━━━━━━━━━━━━━━━━━━━━━━━━━━━━━━━━━━━━━━━\u001b[0m \u001b[32m289.9/289.9 kB\u001b[0m \u001b[31m2.5 MB/s\u001b[0m eta \u001b[36m0:00:00\u001b[0m\n",
            "\u001b[?25hCollecting pyahocorasick (from textsearch>=0.0.21->contractions)\n",
            "  Downloading pyahocorasick-2.1.0-cp310-cp310-manylinux_2_5_x86_64.manylinux1_x86_64.manylinux_2_12_x86_64.manylinux2010_x86_64.whl (110 kB)\n",
            "\u001b[2K     \u001b[90m━━━━━━━━━━━━━━━━━━━━━━━━━━━━━━━━━━━━━━━━\u001b[0m \u001b[32m110.7/110.7 kB\u001b[0m \u001b[31m12.8 MB/s\u001b[0m eta \u001b[36m0:00:00\u001b[0m\n",
            "\u001b[?25hInstalling collected packages: pyahocorasick, anyascii, textsearch, contractions\n",
            "Successfully installed anyascii-0.3.2 contractions-0.1.73 pyahocorasick-2.1.0 textsearch-0.0.24\n"
          ]
        }
      ]
    },
    {
      "cell_type": "code",
      "source": [
        "import pyconll\n",
        "import numpy as np\n",
        "import tensorflow as tf\n",
        "from sklearn.model_selection import train_test_split\n",
        "from tensorflow.keras.preprocessing.sequence import pad_sequences\n",
        "import random\n",
        "import re\n",
        "import contractions\n",
        "import string\n",
        "import nltk\n",
        "from nltk.corpus import stopwords\n",
        "from nltk.tokenize import word_tokenize\n",
        "from sklearn.linear_model import LogisticRegression\n",
        "from sklearn.pipeline import make_pipeline\n",
        "from tqdm.auto import tqdm\n",
        "from sklearn.metrics import classification_report\n",
        "from sklearn.svm import LinearSVC\n",
        "import spacy\n",
        "from sklearn.preprocessing import LabelEncoder\n",
        "from keras.preprocessing.text import Tokenizer\n",
        "import pandas as pd\n"
      ],
      "metadata": {
        "id": "whVZA9RlC54h"
      },
      "execution_count": 3,
      "outputs": []
    },
    {
      "cell_type": "markdown",
      "metadata": {
        "id": "fG8MkuvjorxX"
      },
      "source": [
        "### Load Dataset"
      ]
    },
    {
      "cell_type": "code",
      "source": [
        "path = 'Assignment 2 - Arabic POS.conllu'"
      ],
      "metadata": {
        "id": "3rgu8qJCkg-7"
      },
      "execution_count": 4,
      "outputs": []
    },
    {
      "cell_type": "code",
      "execution_count": 5,
      "metadata": {
        "id": "BYeqhp66orxY"
      },
      "outputs": [],
      "source": [
        "corpus = pyconll.load_from_file(path)"
      ]
    },
    {
      "cell_type": "code",
      "source": [
        "for sentence in corpus[:1]:\n",
        "    # Iterate through each token in the sentence\n",
        "    for token in sentence:\n",
        "        # Access token attributes\n",
        "        token_id = token.id\n",
        "        word = token.form\n",
        "        lemma = token.lemma\n",
        "        Upos = token.upos\n",
        "        upos = token.upos\n",
        "        feats = token.feats\n",
        "        head = token.head\n",
        "        deprel = token.deprel\n",
        "\n",
        "        # Process token data as needed\n",
        "        print(f'Token ID: {token_id}, Word: {word}, Lemma: {lemma}, UPOS: {upos}, upos: {upos}, Features: {feats}, Head: {head}, Deprel: {deprel}')\n"
      ],
      "metadata": {
        "colab": {
          "base_uri": "https://localhost:8080/"
        },
        "id": "PVHDr3uLT76o",
        "outputId": "4b52e192-8d1e-4085-d975-9bd4c7f0cd03"
      },
      "execution_count": 6,
      "outputs": [
        {
          "output_type": "stream",
          "name": "stdout",
          "text": [
            "Token ID: 1, Word: برلين, Lemma: بَرلِين, UPOS: X, upos: X, Features: {'Foreign': {'Yes'}}, Head: 2, Deprel: nsubj\n",
            "Token ID: 2, Word: ترفض, Lemma: رَفَض, UPOS: VERB, upos: VERB, Features: {'Aspect': {'Imp'}, 'Gender': {'Fem'}, 'Mood': {'Ind'}, 'Number': {'Sing'}, 'Person': {'3'}, 'VerbForm': {'Fin'}, 'Voice': {'Act'}}, Head: 0, Deprel: root\n",
            "Token ID: 3, Word: حصول, Lemma: حُصُول, UPOS: NOUN, upos: NOUN, Features: {'Case': {'Acc'}, 'Definite': {'Cons'}, 'Number': {'Sing'}}, Head: 2, Deprel: obj\n",
            "Token ID: 4, Word: شركة, Lemma: شَرِكَة, UPOS: NOUN, upos: NOUN, Features: {'Case': {'Gen'}, 'Definite': {'Ind'}, 'Number': {'Sing'}}, Head: 3, Deprel: nmod\n",
            "Token ID: 5, Word: اميركية, Lemma: أَمِيرِكِيّ, UPOS: ADJ, upos: ADJ, Features: {'Case': {'Gen'}, 'Definite': {'Ind'}, 'Gender': {'Fem'}, 'Number': {'Sing'}}, Head: 4, Deprel: amod\n",
            "Token ID: 6, Word: على, Lemma: عَلَى, UPOS: ADP, upos: ADP, Features: {'AdpType': {'Prep'}}, Head: 7, Deprel: case\n",
            "Token ID: 7, Word: رخصة, Lemma: رُخصَة, UPOS: NOUN, upos: NOUN, Features: {'Case': {'Gen'}, 'Definite': {'Cons'}, 'Number': {'Sing'}}, Head: 3, Deprel: obl:arg\n",
            "Token ID: 8, Word: تصنيع, Lemma: تَصنِيع, UPOS: NOUN, upos: NOUN, Features: {'Case': {'Gen'}, 'Definite': {'Cons'}, 'Number': {'Sing'}}, Head: 7, Deprel: nmod\n",
            "Token ID: 9, Word: دبابة, Lemma: دَبَّابَة, UPOS: NOUN, upos: NOUN, Features: {'Case': {'Gen'}, 'Definite': {'Cons'}, 'Number': {'Sing'}}, Head: 8, Deprel: nmod\n",
            "Token ID: 10, Word: \", Lemma: \", UPOS: PUNCT, upos: PUNCT, Features: {}, Head: 11, Deprel: punct\n",
            "Token ID: 11, Word: ليوبارد, Lemma: لِيُوبَارد, UPOS: X, upos: X, Features: {'Foreign': {'Yes'}}, Head: 9, Deprel: nmod\n",
            "Token ID: 12, Word: \", Lemma: \", UPOS: PUNCT, upos: PUNCT, Features: {}, Head: 11, Deprel: punct\n",
            "Token ID: 13, Word: الالمانية, Lemma: أَلمَانِيّ, UPOS: ADJ, upos: ADJ, Features: {'Case': {'Gen'}, 'Definite': {'Def'}, 'Gender': {'Fem'}, 'Number': {'Sing'}}, Head: 9, Deprel: amod\n"
          ]
        }
      ]
    },
    {
      "cell_type": "markdown",
      "metadata": {
        "id": "ccMPgpevevZF"
      },
      "source": [
        "### Data splitting"
      ]
    },
    {
      "cell_type": "code",
      "source": [
        "def extract_splited_sents_from_data(data):\n",
        "    '''retruns list of list of tokens in data'''\n",
        "    sents_splited=[]\n",
        "    for sent in data:\n",
        "        sents_splited.append([token.form for token in sent])\n",
        "    return sents_splited\n",
        "\n",
        "def extract_POS_from_data(data,tag_type='xpos'):\n",
        "    '''retruns list of list of POS tags for each sentence in data'''\n",
        "    tags=[]\n",
        "    if tag_type=='upos':\n",
        "        for sent in data:\n",
        "            tags.append([token.upos for token in sent])\n",
        "    elif tag_type=='xpos':\n",
        "        for sent in data:\n",
        "            tags.append([token.xpos for token in sent])\n",
        "    return tags\n",
        "\n",
        "def extract_from_data(data,tag_type='xpos'):\n",
        "    return extract_splited_sents_from_data(data),extract_POS_from_data(data,tag_type)"
      ],
      "metadata": {
        "id": "uZVZqwZWgRpE"
      },
      "execution_count": 7,
      "outputs": []
    },
    {
      "cell_type": "code",
      "source": [
        "X,Y= extract_from_data(corpus)"
      ],
      "metadata": {
        "id": "edq_9cxHgdAw"
      },
      "execution_count": 8,
      "outputs": []
    },
    {
      "cell_type": "code",
      "execution_count": 9,
      "metadata": {
        "id": "AESDK4GPevZG"
      },
      "outputs": [],
      "source": [
        "x_train, x_test, y_train, y_test = train_test_split(X, Y, test_size=0.2, random_state = 42)"
      ]
    },
    {
      "cell_type": "markdown",
      "metadata": {
        "id": "XyJkqK9gorxe"
      },
      "source": [
        "### Cleaning and Preprocessing"
      ]
    },
    {
      "cell_type": "code",
      "source": [
        "def get_tokenizer(text):\n",
        "    tokenizer=tf.keras.preprocessing.text.Tokenizer(lower=False,filters=None)\n",
        "    tokenizer.fit_on_texts(text)\n",
        "    return  tokenizer\n",
        "sent_tokenizer,upos_tag_tokenzier= get_tokenizer(X),get_tokenizer(Y)\n",
        "print(len(sent_tokenizer.word_index),upos_tag_tokenzier.word_counts)"
      ],
      "metadata": {
        "colab": {
          "base_uri": "https://localhost:8080/"
        },
        "id": "I9446Fr6TA29",
        "outputId": "4a51bf96-13ef-4686-9511-5fe102230e10"
      },
      "execution_count": 10,
      "outputs": [
        {
          "output_type": "stream",
          "name": "stdout",
          "text": [
            "33496 OrderedDict([('X---------', 4125), ('VIIA-3FS--', 2518), ('N------S4R', 3559), ('N------S2I', 7078), ('A-----FS2I', 1814), ('P---------', 28834), ('N------S2R', 16069), ('G---------', 17839), ('A-----FS2D', 6091), ('Q---------', 4264), ('U---------', 9299), ('Y---------', 361), ('VP-A-3FS--', 2810), ('N------S1R', 3564), ('N------S2D', 16821), ('A-----FS1D', 1050), (None, 30519), ('SP---3FS2-', 2328), ('A-----MS2D', 4590), ('N------S4I', 2950), ('C---------', 20171), ('N------S4D', 2698), ('VIIA-3MS--', 3034), ('PI------4-', 4288), ('N------P2D', 7364), ('N------S1D', 3047), ('SR----FS2-', 886), ('N------P4R', 571), ('A-----FS4D', 732), ('N------P1R', 607), ('QX----F-2D', 6), ('VISA-3FS--', 448), ('QM-----S4R', 448), ('N------P4D', 767), ('VP-A-3MS--', 5311), ('SD----FS4-', 120), ('A-----MS1D', 1112), ('A-----MS4D', 775), ('N------D2R', 96), ('QX----F-2R', 14), ('N------P2I', 1894), ('SP---3MS4-', 1042), ('S---------', 967), ('F---------', 3006), ('N------P2R', 3416), ('VP-P-3MP--', 37), ('N------D4I', 44), ('A-----MP2I', 109), ('N------S1I', 1454), ('SR----FS4-', 167), ('A-----MP2D', 541), ('D---------', 843), ('A-----MP1D', 91), ('VIIA-3MP--', 320), ('SP---3MP4-', 130), ('N------P1D', 1010), ('A-----MS4I', 1571), ('VIJA-3MS--', 249), ('PI------2-', 450), ('SD----MS1-', 236), ('A-----MS2R', 456), ('A-----MS2I', 1298), ('QV----M-2R', 95), ('SD----MS4-', 160), ('SP---3MS2-', 2157), ('QV----F-4R', 21), ('QV----M-4R', 51), ('N------P4I', 432), ('QU----M-2I', 14), ('SP---3MD2-', 127), ('SR----MS2-', 373), ('QV----M-2I', 13), ('N------P1I', 439), ('A-----FS1I', 616), ('A-----MS1I', 573), ('N------D1I', 22), ('A-----FD1I', 5), ('VP-A-3MP--', 366), ('N------D1D', 46), ('SD----FS2-', 453), ('N------D2I', 121), ('VP-P-3MD--', 9), ('VP-P-3MS--', 189), ('QV----F-1R', 10), ('A-----FS4I', 872), ('QM-----S1R', 4), ('QV----F-2D', 32), ('VIIA-1MS--', 32), ('SP---1MP4-', 75), ('VIIA-1MP--', 51), ('VISA-3MS--', 457), ('VIIP-3MS--', 279), ('SP---3FS4-', 721), ('SP---3MP2-', 709), ('SD----FS1-', 111), ('SR----FS1-', 136), ('VP-P-3FS--', 133), ('QM-----P2R', 127), ('SR----MP2-', 94), ('SD----MS2-', 565), ('VIIA-3FP--', 8), ('QM-----S2R', 248), ('SR----FP2-', 9), ('VP-A-3FP--', 9), ('SP---3FP2-', 20), ('VIIP-1MS--', 1), ('SR----MP4-', 14), ('QC-----S2D', 105), ('VIJA-3MP--', 20), ('QV----M-4D', 2), ('SP---3MP1-', 43), ('A-----MD1I', 10), ('VP-A-3FD--', 23), ('A-----MP4I', 47), ('SP---1MP2-', 223), ('A-----MP4D', 63), ('A-----MP1R', 9), ('A-----MS4R', 200), ('SP---3FS1-', 249), ('A-----FD2D', 21), ('SP---3FD2-', 23), ('SR----MS1-', 167), ('VIJA-3FS--', 194), ('A-----FP2D', 58), ('N-------1D', 1), ('QC-----S4D', 1), ('QY----M---', 15), ('A-----MS1R', 233), ('VIJP-3FS--', 14), ('PI------1-', 45), ('SR----MS4-', 87), ('VP-A-3MD--', 56), ('Z--------D', 19), ('SP---3MS1-', 360), ('QL------2D', 28), ('QL------2I', 25), ('A-----MP1I', 102), ('N------D4D', 34), ('VIIA-3MD--', 47), ('VIIP-3FS--', 174), ('VISP-3FS--', 10), ('Z---------', 167), ('QL------4I', 5), ('VIJP-3MS--', 21), ('QM-----D2R', 15), ('A-----FD4I', 8), ('A-----FS2R', 87), ('QC-----D2R', 4), ('QV----M-1R', 25), ('VISA-3MP--', 63), ('A-----MP2R', 75), ('QV----F-2R', 47), ('SP---1MS1-', 8), ('SP---1MS2-', 64), ('N-----FS2I', 2), ('N------D4R', 32), ('QV----M-2D', 43), ('N------D2D', 314), ('SP---1MS4-', 33), ('A-----FP2R', 37), ('QI----M-2I', 12), ('QX----F-4R', 6), ('QM-----P4R', 15), ('QX----F-1D', 1), ('SD----MD2-', 5), ('A-----MD2D', 54), ('QM-----P1R', 8), ('QV----F-2I', 3), ('VIIA-3FD--', 24), ('QM-----D4R', 8), ('A-----FP2I', 21), ('QU----M-4I', 7), ('VISA-3MD--', 8), ('VISA-1MS--', 6), ('SP---2MP2-', 21), ('A-----FD2I', 26), ('QV----M-1I', 9), ('VP-A-1MP--', 21), ('SP---3MD4-', 13), ('VP-A-1MS--', 17), ('VISP-3MS--', 18), ('QM-----P1I', 4), ('N------D1R', 25), ('QC-----P2R', 4), ('A-----FD4D', 4), ('SR----MP1-', 20), ('SP---2MS2-', 115), ('SP---2MS4-', 22), ('VIIA-2MP--', 4), ('N------S4A', 9), ('A-----MD4I', 16), ('QX----M-2R', 15), ('QI----F-2I', 3), ('A-----FS4C', 4), ('QY----F---', 10), ('SR----MD4-', 3), ('SP---3FP1-', 2), ('VP-A-2MP--', 4), ('VIJA-1MP--', 16), ('VP-P-3FP--', 1), ('QC-----S2R', 9), ('QX----M-1D', 1), ('A-----FS1R', 15), ('SR----FD2-', 4), ('QV----M-1D', 8), ('SR----MD2-', 4), ('VIIA-2MS--', 49), ('QM-----S4I', 65), ('Z-----FS-D', 1), ('A-----MD2I', 15), ('QL------1I', 4), ('SD----MP2-', 22), ('VISA-1MP--', 13), ('N-----FS2R', 2), ('SD----MP1-', 6), ('QX----M-4R', 5), ('SP---1MP1-', 25), ('A-----MS4A', 1), ('QM-----P2D', 7), ('VIJA-3FD--', 2), ('SP---3FD4-', 3), ('SD----MD4-', 2), ('SD----FD2-', 2), ('VISP-1MS--', 1), ('VIIP-3MD--', 2), ('SP---3MD1-', 9), ('A-----FD1D', 4), ('SR----FD1-', 2), ('QM-----P2I', 27), ('QU----M-1D', 1), ('VISP-3MP--', 4), ('N-------2R', 8), ('A-----MD1D', 3), ('A-----MD4D', 5), ('A-----MS4C', 11), ('N------P4A', 2), ('VCJ---MP--', 9), ('SP---2MP1-', 1), ('A-----MP4R', 6), ('VCE---MD--', 1), ('QX----M-1R', 4), ('VIJA-1MS--', 3), ('QU----M-4R', 1), ('SD----MP4-', 8), ('A-----FP4I', 3), ('VISA-2MP--', 1), ('VCJ---MS--', 39), ('VP-A-2MS--', 13), ('SP---2MS1-', 3), ('VISA-2MS--', 19), ('VIJA-2MS--', 12), ('SP---2MD2-', 2), ('VIIP-2MS--', 2), ('QX----M-4D', 1), ('QM-----P1D', 3), ('N---------', 4), ('A-----FP1D', 7), ('QV----F-4I', 2), ('N-------2I', 1), ('N-------4I', 2), ('QV----F-1D', 3), ('QI----M-1I', 3), ('QU----F-2I', 1), ('QV----M-4I', 5), ('VIIP-3MP--', 8), ('SD----MD1-', 4), ('A-----FP4D', 5), ('A-----FP4R', 3), ('QM-----S2I', 38), ('QC-----P1I', 1), ('VIIA-2MD--', 2), ('QC-----S2I', 1), ('QM-----S2D', 11), ('A-----FS2C', 9), ('A-----FP1I', 5), ('A-----MS2C', 1), ('SR--------', 5), ('QC-----P1R', 2), ('QU----F-1I', 1), ('VIJA-3MD--', 2), ('SR----FD4-', 1), ('VISA-3FD--', 1), ('QC-----P4R', 2), ('I---------', 7), ('N--------D', 9), ('SP---2FS2-', 2), ('QU----M-1I', 2), ('N-----FP2R', 4), ('S----3FS2-', 3), ('A-----FS4R', 14), ('N-----MP2D', 1), ('QX----M-2I', 3), ('A-----MD2R', 1), ('S----3MS2-', 6), ('A-----FS1C', 1), ('SR----MD1-', 2), ('S----1-S4-', 1), ('N-----FP--', 1), ('A-----MD1C', 1), ('A-----MD4R', 1), ('VISA-3FP--', 1), ('A-----MS1C', 1), ('N-------2D', 10), ('A-----MP2C', 3), ('A-----MP4C', 2), ('QM-----D4I', 1), ('N-----FP2D', 8), ('N------S1A', 2), ('SP---3FP4-', 2), ('A-----MS2A', 1), ('S----1-P4-', 1), ('VIJA-2MP--', 1), ('A-----FS4A', 1), ('QI----M-2D', 2), ('A-----FP1R', 6), ('VIJP-3MP--', 2), ('QI----F-4I', 1), ('QX----M-1I', 1), ('QV----F-4D', 3), ('QC-----P2I', 1), ('QM-----P4I', 1), ('QU----F-2R', 2), ('QX----M-2D', 2), ('QM-----D1R', 1), ('QV----F-1I', 1), ('QM-----S1I', 2), ('QM-----S4D', 3), ('SP---2MP4-', 1), ('QM-----S4A', 1), ('A-----MS1A', 1), ('QI----M-4I', 1), ('QV----M-2C', 1), ('SD----FD1-', 2), ('N-----FS4R', 1), ('N-----FP2I', 1), ('QV----F-4C', 2), ('QC-----S4R', 1), ('QM-----P4D', 1), ('QM-----D2I', 1), ('N-----FP-D', 2), ('N------P2A', 1), ('N------S2A', 1), ('QV----M-4C', 1), ('VCJ---FP--', 2), ('A-----FD1R', 1), ('QU----M-4D', 1), ('QL------4D', 1)])\n"
          ]
        }
      ]
    },
    {
      "cell_type": "code",
      "source": [
        "MAX_SEQ_LEN = 160"
      ],
      "metadata": {
        "id": "AaGNN4KfZAwc"
      },
      "execution_count": 11,
      "outputs": []
    },
    {
      "cell_type": "code",
      "source": [
        "def tokenize_and_pad_seqs(seqs,tokenizer):\n",
        "    tokenized=tokenizer.texts_to_sequences(seqs)\n",
        "    padded=tf.keras.preprocessing.sequence.pad_sequences(tokenized, maxlen= MAX_SEQ_LEN,value=0)\n",
        "    return padded\n",
        "X_train_token,X_test_token=[tokenize_and_pad_seqs(seqs,sent_tokenizer) \\\n",
        "                      for seqs in [x_train,x_test]]\n",
        "y_train_token,y_test_token=[tokenize_and_pad_seqs(seqs,upos_tag_tokenzier) \\\n",
        "                                     for seqs in [y_train,y_test]]\n",
        "print(len(X_train_token),len(X_test_token))"
      ],
      "metadata": {
        "colab": {
          "base_uri": "https://localhost:8080/"
        },
        "id": "m_q4tnAlXjBh",
        "outputId": "36e4e685-58b3-4839-9288-b86f529cdf78"
      },
      "execution_count": 12,
      "outputs": [
        {
          "output_type": "stream",
          "name": "stdout",
          "text": [
            "4860 1215\n"
          ]
        }
      ]
    },
    {
      "cell_type": "code",
      "source": [
        "VOCAB_SIZE=len(sent_tokenizer.word_index)+1\n",
        "print(VOCAB_SIZE)"
      ],
      "metadata": {
        "colab": {
          "base_uri": "https://localhost:8080/"
        },
        "id": "XpmJqPv_4VW6",
        "outputId": "b0f09825-57f6-437c-834e-d7c180b15976"
      },
      "execution_count": 13,
      "outputs": [
        {
          "output_type": "stream",
          "name": "stdout",
          "text": [
            "33497\n"
          ]
        }
      ]
    },
    {
      "cell_type": "code",
      "source": [
        "upos_TAG_VOCAB=len(upos_tag_tokenzier.word_index)+1\n",
        "print(upos_TAG_VOCAB)"
      ],
      "metadata": {
        "colab": {
          "base_uri": "https://localhost:8080/"
        },
        "id": "qNV5PO8A6eC2",
        "outputId": "5b9e17cc-cf96-4a3f-9c06-36ecbf8f6436"
      },
      "execution_count": 14,
      "outputs": [
        {
          "output_type": "stream",
          "name": "stdout",
          "text": [
            "348\n"
          ]
        }
      ]
    },
    {
      "cell_type": "code",
      "source": [],
      "metadata": {
        "id": "iSR58HfErb6h"
      },
      "execution_count": 14,
      "outputs": []
    },
    {
      "cell_type": "markdown",
      "metadata": {
        "id": "R9BhRQbYorxf"
      },
      "source": [
        "### Modelling"
      ]
    },
    {
      "cell_type": "code",
      "source": [
        "pip install livelossplot"
      ],
      "metadata": {
        "colab": {
          "base_uri": "https://localhost:8080/"
        },
        "id": "3i3M_xaRcbOg",
        "outputId": "38d0f639-f38b-4dd6-98f7-cbc220962e47"
      },
      "execution_count": 15,
      "outputs": [
        {
          "output_type": "stream",
          "name": "stdout",
          "text": [
            "Collecting livelossplot\n",
            "  Downloading livelossplot-0.5.5-py3-none-any.whl (22 kB)\n",
            "Requirement already satisfied: matplotlib in /usr/local/lib/python3.10/dist-packages (from livelossplot) (3.7.1)\n",
            "Requirement already satisfied: bokeh in /usr/local/lib/python3.10/dist-packages (from livelossplot) (3.3.4)\n",
            "Requirement already satisfied: Jinja2>=2.9 in /usr/local/lib/python3.10/dist-packages (from bokeh->livelossplot) (3.1.4)\n",
            "Requirement already satisfied: contourpy>=1 in /usr/local/lib/python3.10/dist-packages (from bokeh->livelossplot) (1.2.1)\n",
            "Requirement already satisfied: numpy>=1.16 in /usr/local/lib/python3.10/dist-packages (from bokeh->livelossplot) (1.25.2)\n",
            "Requirement already satisfied: packaging>=16.8 in /usr/local/lib/python3.10/dist-packages (from bokeh->livelossplot) (24.0)\n",
            "Requirement already satisfied: pandas>=1.2 in /usr/local/lib/python3.10/dist-packages (from bokeh->livelossplot) (2.0.3)\n",
            "Requirement already satisfied: pillow>=7.1.0 in /usr/local/lib/python3.10/dist-packages (from bokeh->livelossplot) (9.4.0)\n",
            "Requirement already satisfied: PyYAML>=3.10 in /usr/local/lib/python3.10/dist-packages (from bokeh->livelossplot) (6.0.1)\n",
            "Requirement already satisfied: tornado>=5.1 in /usr/local/lib/python3.10/dist-packages (from bokeh->livelossplot) (6.3.3)\n",
            "Requirement already satisfied: xyzservices>=2021.09.1 in /usr/local/lib/python3.10/dist-packages (from bokeh->livelossplot) (2024.4.0)\n",
            "Requirement already satisfied: cycler>=0.10 in /usr/local/lib/python3.10/dist-packages (from matplotlib->livelossplot) (0.12.1)\n",
            "Requirement already satisfied: fonttools>=4.22.0 in /usr/local/lib/python3.10/dist-packages (from matplotlib->livelossplot) (4.51.0)\n",
            "Requirement already satisfied: kiwisolver>=1.0.1 in /usr/local/lib/python3.10/dist-packages (from matplotlib->livelossplot) (1.4.5)\n",
            "Requirement already satisfied: pyparsing>=2.3.1 in /usr/local/lib/python3.10/dist-packages (from matplotlib->livelossplot) (3.1.2)\n",
            "Requirement already satisfied: python-dateutil>=2.7 in /usr/local/lib/python3.10/dist-packages (from matplotlib->livelossplot) (2.8.2)\n",
            "Requirement already satisfied: MarkupSafe>=2.0 in /usr/local/lib/python3.10/dist-packages (from Jinja2>=2.9->bokeh->livelossplot) (2.1.5)\n",
            "Requirement already satisfied: pytz>=2020.1 in /usr/local/lib/python3.10/dist-packages (from pandas>=1.2->bokeh->livelossplot) (2023.4)\n",
            "Requirement already satisfied: tzdata>=2022.1 in /usr/local/lib/python3.10/dist-packages (from pandas>=1.2->bokeh->livelossplot) (2024.1)\n",
            "Requirement already satisfied: six>=1.5 in /usr/local/lib/python3.10/dist-packages (from python-dateutil>=2.7->matplotlib->livelossplot) (1.16.0)\n",
            "Installing collected packages: livelossplot\n",
            "Successfully installed livelossplot-0.5.5\n"
          ]
        }
      ]
    },
    {
      "cell_type": "code",
      "execution_count": 16,
      "metadata": {
        "ExecuteTime": {
          "end_time": "2021-11-10T23:20:28.726374Z",
          "start_time": "2021-11-10T23:20:28.721042Z"
        },
        "id": "Y2vM7IkXpkiH"
      },
      "outputs": [],
      "source": [
        "from tensorflow.keras import Model, Input\n",
        "from tensorflow.keras.layers import LSTM, Embedding, Dense\n",
        "from tensorflow.keras.layers import TimeDistributed, SpatialDropout1D, Bidirectional\n",
        "from tensorflow.keras.callbacks import ModelCheckpoint, EarlyStopping\n",
        "from livelossplot.tf_keras import PlotLossesCallback"
      ]
    },
    {
      "cell_type": "code",
      "execution_count": 17,
      "metadata": {
        "ExecuteTime": {
          "end_time": "2021-11-10T23:20:29.676130Z",
          "start_time": "2021-11-10T23:20:28.727809Z"
        },
        "colab": {
          "base_uri": "https://localhost:8080/"
        },
        "id": "Aee3mCZ3pkkv",
        "outputId": "f278800b-ffaa-4034-981d-4f5d24c56381"
      },
      "outputs": [
        {
          "output_type": "stream",
          "name": "stderr",
          "text": [
            "WARNING:tensorflow:Layer lstm will not use cuDNN kernels since it doesn't meet the criteria. It will use a generic GPU kernel as fallback when running on GPU.\n",
            "WARNING:tensorflow:Layer lstm will not use cuDNN kernels since it doesn't meet the criteria. It will use a generic GPU kernel as fallback when running on GPU.\n",
            "WARNING:tensorflow:Layer lstm will not use cuDNN kernels since it doesn't meet the criteria. It will use a generic GPU kernel as fallback when running on GPU.\n"
          ]
        },
        {
          "output_type": "stream",
          "name": "stdout",
          "text": [
            "Model: \"model\"\n",
            "_________________________________________________________________\n",
            " Layer (type)                Output Shape              Param #   \n",
            "=================================================================\n",
            " input_1 (InputLayer)        [(None, 160)]             0         \n",
            "                                                                 \n",
            " embedding (Embedding)       (None, 160, 50)           1674850   \n",
            "                                                                 \n",
            " bidirectional (Bidirection  (None, 160, 200)          120800    \n",
            " al)                                                             \n",
            "                                                                 \n",
            " time_distributed (TimeDist  (None, 160, 348)          69948     \n",
            " ributed)                                                        \n",
            "                                                                 \n",
            "=================================================================\n",
            "Total params: 1865598 (7.12 MB)\n",
            "Trainable params: 1865598 (7.12 MB)\n",
            "Non-trainable params: 0 (0.00 Byte)\n",
            "_________________________________________________________________\n"
          ]
        }
      ],
      "source": [
        "input_word = Input(shape=(MAX_SEQ_LEN,))\n",
        "model = Embedding(input_dim=VOCAB_SIZE,output_dim=50, input_length=MAX_SEQ_LEN)(input_word)\n",
        "model = Bidirectional(LSTM(units=100, return_sequences=True, recurrent_dropout=0.1))(model)\n",
        "out = TimeDistributed(Dense(upos_TAG_VOCAB, activation=\"softmax\"))(model)\n",
        "model = Model(input_word, out)\n",
        "model.summary()"
      ]
    },
    {
      "cell_type": "code",
      "execution_count": 18,
      "metadata": {
        "id": "Xp0Z5dynevZH"
      },
      "outputs": [],
      "source": [
        "model.compile(optimizer=\"adam\",\n",
        "              loss=\"sparse_categorical_crossentropy\",\n",
        "              metrics=[\"accuracy\"])"
      ]
    },
    {
      "cell_type": "markdown",
      "source": [
        "**Training the Model 🏃**"
      ],
      "metadata": {
        "id": "MTzcz0mDcluM"
      }
    },
    {
      "cell_type": "code",
      "execution_count": 19,
      "metadata": {
        "ExecuteTime": {
          "end_time": "2021-11-10T23:33:29.250199Z",
          "start_time": "2021-11-10T23:21:04.230780Z"
        },
        "colab": {
          "base_uri": "https://localhost:8080/",
          "height": 818
        },
        "id": "Q9HWH06Ypkxh",
        "outputId": "0a77b7dc-7a46-4ece-9d50-3f426c038f35"
      },
      "outputs": [
        {
          "output_type": "display_data",
          "data": {
            "text/plain": [
              "<Figure size 1200x800 with 2 Axes>"
            ],
            "image/png": "[encoded data removed]"
          },
          "metadata": {}
        },
        {
          "output_type": "stream",
          "name": "stderr",
          "text": [
            "WARNING:tensorflow:Can save best model only with val_loss available, skipping.\n",
            "WARNING:tensorflow:Early stopping conditioned on metric `val_accuracy` which is not available. Available metrics are: loss,accuracy\n"
          ]
        },
        {
          "output_type": "stream",
          "name": "stdout",
          "text": [
            "accuracy\n",
            "\taccuracy         \t (min:    0.744, max:    0.790, cur:    0.790)\n",
            "Loss\n",
            "\tloss             \t (min:    0.898, max:    1.506, cur:    0.898)\n",
            "\b\b\b\b\b\b\b\b\b\b\b\b\b\b\b\b\b\b\b\b\b\b\b\b\b\b\b\b\b\b\b\b\b\b\b\b\b\b\b\b\b\b\b\b\b\b\b\b\b\b\b\b\b\b\b\b\b\b\b\b\b\b\b\b\b\b\b\b\b\b\b\b\b\b\b\b\b\b\b\b\b\b\b\b\r152/152 [==============================] - 152s 1s/step - loss: 0.8983 - accuracy: 0.7905\n",
            "CPU times: user 10min 9s, sys: 53.2 s, total: 11min 3s\n",
            "Wall time: 8min 11s\n"
          ]
        }
      ],
      "source": [
        "%%time\n",
        "\n",
        "chkpt = ModelCheckpoint(\"model_weights.h5\", monitor='val_loss',verbose=1, save_best_only=True, save_weights_only=True, mode='min')\n",
        "\n",
        "early_stopping = EarlyStopping(monitor='val_accuracy', min_delta=0, patience=1, verbose=0, mode='max', baseline=None, restore_best_weights=False)\n",
        "\n",
        "callbacks = [PlotLossesCallback(), chkpt, early_stopping]\n",
        "\n",
        "history = model.fit(\n",
        "    x=X_train_token,\n",
        "    y=y_train_token,\n",
        "    batch_size=32,\n",
        "    epochs=3,\n",
        "    callbacks=callbacks,\n",
        "    verbose=1\n",
        ")"
      ]
    },
    {
      "cell_type": "markdown",
      "metadata": {
        "id": "85JlkIQXorxg"
      },
      "source": [
        "#### Evaluation"
      ]
    },
    {
      "cell_type": "markdown",
      "metadata": {
        "id": "FiaWJPtkevZI"
      },
      "source": [
        "**Evaluation metric:**\n",
        "Accuracy"
      ]
    },
    {
      "cell_type": "code",
      "execution_count": 20,
      "metadata": {
        "id": "WRt78KCxevZI",
        "colab": {
          "base_uri": "https://localhost:8080/"
        },
        "outputId": "70b3211e-c49d-4bc1-e3d7-8d7dfd73aa84"
      },
      "outputs": [
        {
          "output_type": "stream",
          "name": "stdout",
          "text": [
            "38/38 [==============================] - 4s 93ms/step - loss: 0.8661 - accuracy: 0.8080\n"
          ]
        },
        {
          "output_type": "execute_result",
          "data": {
            "text/plain": [
              "[0.866086483001709, 0.8079783916473389]"
            ]
          },
          "metadata": {},
          "execution_count": 20
        }
      ],
      "source": [
        "model.evaluate(X_test_token, y_test_token)"
      ]
    },
    {
      "cell_type": "markdown",
      "metadata": {
        "id": "fhVFUaIcorxh"
      },
      "source": [
        "### Enhancement"
      ]
    },
    {
      "cell_type": "code",
      "source": [
        "input_word = Input(shape=(MAX_SEQ_LEN,))\n",
        "model2 = Embedding(input_dim=VOCAB_SIZE,output_dim=100, input_length=MAX_SEQ_LEN)(input_word)\n",
        "model2 = Bidirectional(LSTM(units=300, return_sequences=True, recurrent_dropout=0.1))(model2)\n",
        "out = TimeDistributed(Dense(upos_TAG_VOCAB, activation=\"softmax\"))(model2)\n",
        "model2 = Model(input_word, out)\n",
        "model2.summary()"
      ],
      "metadata": {
        "colab": {
          "base_uri": "https://localhost:8080/"
        },
        "id": "8UTZGk_kkX3k",
        "outputId": "3a65e3af-e71d-4085-c561-faf87d53d9dd"
      },
      "execution_count": 21,
      "outputs": [
        {
          "output_type": "stream",
          "name": "stderr",
          "text": [
            "WARNING:tensorflow:Layer lstm_1 will not use cuDNN kernels since it doesn't meet the criteria. It will use a generic GPU kernel as fallback when running on GPU.\n",
            "WARNING:tensorflow:Layer lstm_1 will not use cuDNN kernels since it doesn't meet the criteria. It will use a generic GPU kernel as fallback when running on GPU.\n",
            "WARNING:tensorflow:Layer lstm_1 will not use cuDNN kernels since it doesn't meet the criteria. It will use a generic GPU kernel as fallback when running on GPU.\n"
          ]
        },
        {
          "output_type": "stream",
          "name": "stdout",
          "text": [
            "Model: \"model_1\"\n",
            "_________________________________________________________________\n",
            " Layer (type)                Output Shape              Param #   \n",
            "=================================================================\n",
            " input_2 (InputLayer)        [(None, 160)]             0         \n",
            "                                                                 \n",
            " embedding_1 (Embedding)     (None, 160, 100)          3349700   \n",
            "                                                                 \n",
            " bidirectional_1 (Bidirecti  (None, 160, 600)          962400    \n",
            " onal)                                                           \n",
            "                                                                 \n",
            " time_distributed_1 (TimeDi  (None, 160, 348)          209148    \n",
            " stributed)                                                      \n",
            "                                                                 \n",
            "=================================================================\n",
            "Total params: 4521248 (17.25 MB)\n",
            "Trainable params: 4521248 (17.25 MB)\n",
            "Non-trainable params: 0 (0.00 Byte)\n",
            "_________________________________________________________________\n"
          ]
        }
      ]
    },
    {
      "cell_type": "code",
      "source": [
        "model2.compile(optimizer=\"adam\",\n",
        "              loss=\"sparse_categorical_crossentropy\",\n",
        "              metrics=[\"accuracy\"])"
      ],
      "metadata": {
        "id": "JAowPeWakX0H"
      },
      "execution_count": 22,
      "outputs": []
    },
    {
      "cell_type": "code",
      "source": [
        "%%time\n",
        "\n",
        "chkpt = ModelCheckpoint(\"model_weights.h5\", monitor='val_loss',verbose=1, save_best_only=True, save_weights_only=True, mode='min')\n",
        "\n",
        "early_stopping = EarlyStopping(monitor='val_accuracy', min_delta=0, patience=1, verbose=0, mode='max', baseline=None, restore_best_weights=False)\n",
        "\n",
        "callbacks = [PlotLossesCallback(), chkpt, early_stopping]\n",
        "\n",
        "history2 = model2.fit(\n",
        "    x=X_train_token,\n",
        "    y=y_train_token,\n",
        "    batch_size=32,\n",
        "    epochs=7,\n",
        "    callbacks=callbacks,\n",
        "    verbose=1\n",
        ")"
      ],
      "metadata": {
        "colab": {
          "base_uri": "https://localhost:8080/",
          "height": 818
        },
        "id": "0nedPKu-k6x2",
        "outputId": "e443a055-64f6-4ab8-a1b0-da991154ac2c"
      },
      "execution_count": 23,
      "outputs": [
        {
          "output_type": "display_data",
          "data": {
            "text/plain": [
              "<Figure size 1200x800 with 2 Axes>"
            ],
            "image/png": "[encoded data removed]"
          },
          "metadata": {}
        },
        {
          "output_type": "stream",
          "name": "stderr",
          "text": [
            "WARNING:tensorflow:Can save best model only with val_loss available, skipping.\n",
            "WARNING:tensorflow:Early stopping conditioned on metric `val_accuracy` which is not available. Available metrics are: loss,accuracy\n"
          ]
        },
        {
          "output_type": "stream",
          "name": "stdout",
          "text": [
            "accuracy\n",
            "\taccuracy         \t (min:    0.760, max:    0.979, cur:    0.979)\n",
            "Loss\n",
            "\tloss             \t (min:    0.085, max:    1.180, cur:    0.085)\n",
            "\b\b\b\b\b\b\b\b\b\b\b\b\b\b\b\b\b\b\b\b\b\b\b\b\b\b\b\b\b\b\b\b\b\b\b\b\b\b\b\b\b\b\b\b\b\b\b\b\b\b\b\b\b\b\b\b\b\b\b\b\b\b\b\b\b\b\b\b\b\b\b\b\b\b\b\b\b\b\b\b\b\b\b\b\r152/152 [==============================] - 152s 999ms/step - loss: 0.0848 - accuracy: 0.9790\n",
            "CPU times: user 23min 43s, sys: 2min 7s, total: 25min 51s\n",
            "Wall time: 18min 24s\n"
          ]
        }
      ]
    },
    {
      "cell_type": "markdown",
      "metadata": {
        "id": "-l1U1n8FevZJ"
      },
      "source": [
        "### Conclusion and final results\n"
      ]
    },
    {
      "cell_type": "code",
      "execution_count": 23,
      "metadata": {
        "id": "ZrkOKP37evZJ"
      },
      "outputs": [],
      "source": []
    },
    {
      "cell_type": "code",
      "execution_count": 23,
      "metadata": {
        "id": "ryvcSYu2evZK"
      },
      "outputs": [],
      "source": []
    },
    {
      "cell_type": "markdown",
      "metadata": {
        "id": "Nw1GVnYLorxi"
      },
      "source": [
        "#### Done!"
      ]
    }
  ],
  "metadata": {
    "colab": {
      "provenance": [],
      "gpuType": "T4"
    },
    "kernelspec": {
      "display_name": "Python 3",
      "name": "python3"
    },
    "language_info": {
      "codemirror_mode": {
        "name": "ipython",
        "version": 3
      },
      "file_extension": ".py",
      "mimetype": "text/x-python",
      "name": "python",
      "nbconvert_exporter": "python",
      "pygments_lexer": "ipython3",
      "version": "3.11.7"
    },
    "accelerator": "GPU"
  },
  "nbformat": 4,
  "nbformat_minor": 0
}
